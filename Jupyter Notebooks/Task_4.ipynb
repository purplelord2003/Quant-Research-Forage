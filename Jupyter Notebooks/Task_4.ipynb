{
  "nbformat": 4,
  "nbformat_minor": 0,
  "metadata": {
    "colab": {
      "provenance": [],
      "gpuType": "T4"
    },
    "kernelspec": {
      "name": "python3",
      "display_name": "Python 3"
    },
    "language_info": {
      "name": "python"
    },
    "accelerator": "GPU"
  },
  "cells": [
    {
      "cell_type": "code",
      "execution_count": 1,
      "metadata": {
        "id": "pwzyWsAkQ-Bd"
      },
      "outputs": [],
      "source": [
        "import pandas as pd\n",
        "from math import log"
      ]
    },
    {
      "cell_type": "code",
      "source": [
        "# read in dataframe\n",
        "df = pd.read_csv(\"Task 3 and 4_Loan_Data.csv\")"
      ],
      "metadata": {
        "id": "xfhoj5s1RIsr"
      },
      "execution_count": 2,
      "outputs": []
    },
    {
      "cell_type": "code",
      "source": [
        "# we are going to calculate the prefix sums of the number of records and the number of defaults for all possible scores according to the dataframe\n",
        "prefix_records = [0] * (552) # 551 scores from first index onwards, index 0 is 0 to compute the first prefix sum\n",
        "prefix_defaults = [0] * (552)"
      ],
      "metadata": {
        "id": "jVkzqZKFRUDD"
      },
      "execution_count": 3,
      "outputs": []
    },
    {
      "cell_type": "code",
      "source": [
        "for idx in range(1, 552):\n",
        "    cur_score = idx + 299 # 299 acts as a buffer -> scores 300 to 850\n",
        "    prefix_records[idx] = len(df[df[\"fico_score\"] == cur_score]) + prefix_records[idx-1]\n",
        "    prefix_defaults[idx] = len(df[(df[\"fico_score\"] == cur_score) & (df[\"default\"] == 1)]) + prefix_defaults[idx-1]"
      ],
      "metadata": {
        "id": "vKxB2HGuRWEk"
      },
      "execution_count": 4,
      "outputs": []
    },
    {
      "cell_type": "code",
      "source": [
        "# store the LL (Log-Likelihood) for all possible buckets\n",
        "LL_mat = [[0]*552 for _ in range(552)]\n",
        "for start in range(1, 552):\n",
        "    for end in range(start, 552):\n",
        "        n = prefix_records[end] - prefix_records[start-1]\n",
        "        k = prefix_defaults[end] - prefix_defaults[start-1]\n",
        "        if k == 0 or k == n: # according to the LL equation, the equation will give 0 in these cases\n",
        "            LL_mat[start][end] = 0\n",
        "        else:\n",
        "            LL_mat[start][end] = k * log(k / n) + (n - k) * log(1 - (k/n))"
      ],
      "metadata": {
        "id": "UI9ib4YXRX3a"
      },
      "execution_count": 5,
      "outputs": []
    },
    {
      "cell_type": "code",
      "source": [
        "### Method 1 (brute-force)\n",
        "# try 4 buckets so there are 3 dividers -> O(n^3) solution but checks all possibilites\n",
        "res = []\n",
        "maximum = float('-inf')\n",
        "\n",
        "# each divider (e.g. first = 1 means the divider will be placed after the 1st possible FICO score which is 300 so the first bucket will then be [300].)\n",
        "for first in range(1, 548):\n",
        "    for second in range(first+1, 549):\n",
        "        for third in range(second+1, 550):\n",
        "            LL = LL_mat[1][first] + LL_mat[first+1][second] + LL_mat[second+1][third] + LL_mat[third+1][551]\n",
        "            if LL > maximum:\n",
        "                maximum = LL\n",
        "                res = [first, second, third]"
      ],
      "metadata": {
        "id": "ZYLu7J4ORZ5S"
      },
      "execution_count": 6,
      "outputs": []
    },
    {
      "cell_type": "code",
      "source": [
        "print(res)"
      ],
      "metadata": {
        "colab": {
          "base_uri": "https://localhost:8080/"
        },
        "id": "gna9orJCRckU",
        "outputId": "d21a906c-f0a3-4b99-ce8f-4fba1ecfe307"
      },
      "execution_count": 7,
      "outputs": [
        {
          "output_type": "stream",
          "name": "stdout",
          "text": [
            "[253, 311, 350]\n"
          ]
        }
      ]
    },
    {
      "cell_type": "code",
      "source": [
        "print(maximum) # the maximum log likelihood due to the bucketing"
      ],
      "metadata": {
        "colab": {
          "base_uri": "https://localhost:8080/"
        },
        "id": "_vIkoJ1_SDhL",
        "outputId": "8de52e9c-236e-44f1-98ea-272410e15da2"
      },
      "execution_count": 8,
      "outputs": [
        {
          "output_type": "stream",
          "name": "stdout",
          "text": [
            "-4276.732521597704\n"
          ]
        }
      ]
    },
    {
      "cell_type": "code",
      "source": [
        "print(\"The 4 optimal buckets are:\")\n",
        "print(f\"Score 1 (Lowest Credit Band): 300 to {res[0]+299}\")\n",
        "print(f\"Score 2 (Second Lowest Credit Band): {res[0]+300} to {res[1]+299}\")\n",
        "print(f\"Score 3 (Second Highest Credit Band): {res[1]+300} to {res[2]+299}\")\n",
        "print(f\"Score 4 (Highest Credit Band): {res[2]+300} to 850\")"
      ],
      "metadata": {
        "colab": {
          "base_uri": "https://localhost:8080/"
        },
        "id": "p9rOf_sPSiCQ",
        "outputId": "ce44f57f-73fa-4481-f2e1-2eec1762368b"
      },
      "execution_count": 9,
      "outputs": [
        {
          "output_type": "stream",
          "name": "stdout",
          "text": [
            "The 4 optimal buckets are:\n",
            "Score 1 (Lowest Credit Band): 300 to 552\n",
            "Score 2 (Second Lowest Credit Band): 553 to 610\n",
            "Score 3 (Second Highest Credit Band): 611 to 649\n",
            "Score 4 (Highest Credit Band): 650 to 850\n"
          ]
        }
      ]
    },
    {
      "cell_type": "code",
      "source": [
        "### Method 2 (Adapted from suggested answer) -> Dynamic Programming\n",
        "iter_num = 4\n",
        "dp = [[[float(\"-inf\"), 1] for i in range(552)] for j in range(iter_num+1)]\n",
        "for i in range(iter_num+1):\n",
        "    for j in range(1, 552):\n",
        "        if (i==0):\n",
        "            dp[i][j][0] = 0\n",
        "        else:\n",
        "            for k in range(1, j):\n",
        "                if (prefix_records[j]==prefix_records[k]):\n",
        "                    continue\n",
        "                if (i==1):\n",
        "                    dp[i][j][0] = LL_mat[1][j]\n",
        "                    continue\n",
        "                else:\n",
        "                    if (dp[i][j][0] < (dp[i-1][k][0] + LL_mat[k][j])):\n",
        "                        dp[i][j][0] = dp[i-1][k][0] + LL_mat[k][j]\n",
        "                        dp[i][j][1] = k"
      ],
      "metadata": {
        "id": "ozNrGy-QHidf"
      },
      "execution_count": 10,
      "outputs": []
    },
    {
      "cell_type": "code",
      "source": [
        "# Maximum log likelihood\n",
        "print(dp[iter_num][551][0])"
      ],
      "metadata": {
        "colab": {
          "base_uri": "https://localhost:8080/"
        },
        "id": "yj7qs56vHvva",
        "outputId": "d44f6668-1ef6-4bef-8646-f737e55968c4"
      },
      "execution_count": 11,
      "outputs": [
        {
          "output_type": "stream",
          "name": "stdout",
          "text": [
            "-4327.507281373537\n"
          ]
        }
      ]
    },
    {
      "cell_type": "code",
      "source": [
        "# Preparing the partitions\n",
        "k = 551\n",
        "res = []\n",
        "while iter_num >= 0:\n",
        "    res.append(k)\n",
        "    k = dp[iter_num][k][1]\n",
        "    iter_num -= 1\n",
        "\n",
        "res.reverse()"
      ],
      "metadata": {
        "id": "Rt6zf4edH4zW"
      },
      "execution_count": 12,
      "outputs": []
    },
    {
      "cell_type": "code",
      "source": [
        "print(res)"
      ],
      "metadata": {
        "colab": {
          "base_uri": "https://localhost:8080/"
        },
        "id": "Sh-o5uZfH9Ft",
        "outputId": "861e5d8f-3f79-4f50-dd60-b70366022de3"
      },
      "execution_count": 13,
      "outputs": [
        {
          "output_type": "stream",
          "name": "stdout",
          "text": [
            "[1, 254, 316, 377, 551]\n"
          ]
        }
      ]
    },
    {
      "cell_type": "code",
      "source": [
        "res = res[1:-1] # ignore the 300 (1) and 850 (551) to keep same format as earlier in method 1"
      ],
      "metadata": {
        "id": "cDz6bFQ3IqYt"
      },
      "execution_count": 14,
      "outputs": []
    },
    {
      "cell_type": "code",
      "source": [
        "print(\"The 4 optimal buckets are:\")\n",
        "print(f\"Score 1 (Lowest Credit Band): 300 to {res[0]+299}\")\n",
        "print(f\"Score 2 (Second Lowest Credit Band): {res[0]+300} to {res[1]+299}\")\n",
        "print(f\"Score 3 (Second Highest Credit Band): {res[1]+300} to {res[2]+299}\")\n",
        "print(f\"Score 4 (Highest Credit Band): {res[2]+300} to 850\")"
      ],
      "metadata": {
        "colab": {
          "base_uri": "https://localhost:8080/"
        },
        "id": "xywKIoroIXa9",
        "outputId": "4d6b57a3-88e8-45ca-9a30-73db15f33f52"
      },
      "execution_count": 15,
      "outputs": [
        {
          "output_type": "stream",
          "name": "stdout",
          "text": [
            "The 4 optimal buckets are:\n",
            "Score 1 (Lowest Credit Band): 300 to 553\n",
            "Score 2 (Second Lowest Credit Band): 554 to 615\n",
            "Score 3 (Second Highest Credit Band): 616 to 676\n",
            "Score 4 (Highest Credit Band): 677 to 850\n"
          ]
        }
      ]
    }
  ]
}