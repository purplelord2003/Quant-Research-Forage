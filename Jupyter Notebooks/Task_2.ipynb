{
  "nbformat": 4,
  "nbformat_minor": 0,
  "metadata": {
    "colab": {
      "provenance": []
    },
    "kernelspec": {
      "name": "python3",
      "display_name": "Python 3"
    },
    "language_info": {
      "name": "python"
    }
  },
  "cells": [
    {
      "cell_type": "code",
      "execution_count": 1,
      "metadata": {
        "id": "Hu5NkkyXW7LP"
      },
      "outputs": [],
      "source": [
        "import datetime as dt\n",
        "from math import ceil"
      ]
    },
    {
      "cell_type": "code",
      "source": [
        "def pricing_model(buy_dates, sell_dates, buy_prices, sell_prices, volume_per_day, injection_rate, maximum_volume, storage_cost):\n",
        "    cost = 0\n",
        "    revenue = 0\n",
        "    current_volume = 0\n",
        "    buy_dates = list(map(lambda x: dt.datetime.strptime(x, \"%d-%m-%Y\").date(), buy_dates))\n",
        "    sell_dates = list(map(lambda x: dt.datetime.strptime(x, \"%d-%m-%Y\").date(), sell_dates))\n",
        "    buy = list(zip(buy_dates, [\"B\"]*len(buy_dates)))\n",
        "    sell = list(zip(sell_dates, [\"S\"]*len(sell_dates)))\n",
        "    dates = buy + sell\n",
        "    dates.sort(key=lambda x: x[0])\n",
        "\n",
        "    for date in dates:\n",
        "        if date[1] == 'B': # buying\n",
        "            if current_volume + volume_per_day <= maximum_volume: # have enough space\n",
        "                cost += buy_prices[buy_dates.index(date[0])] * volume_per_day\n",
        "                cost += injection_rate * volume_per_day\n",
        "                current_volume += volume_per_day\n",
        "            else:\n",
        "                print(f\"Not enough space for buying at {date[0]}.\")\n",
        "\n",
        "        else: # selling\n",
        "            if volume_per_day <= current_volume:\n",
        "                revenue += sell_prices[sell_dates.index(date[0])] * volume_per_day\n",
        "                cost += injection_rate * volume_per_day\n",
        "                current_volume -= volume_per_day\n",
        "            else:\n",
        "                print(f\"Not enough gas to sell at {date[0]}.\")\n",
        "\n",
        "    length = (dates[-1][0] - dates[0][0]).days\n",
        "    cost += ceil(length / 30) * storage_cost\n",
        "\n",
        "    return revenue - cost"
      ],
      "metadata": {
        "id": "NbbXOrrGXAmv"
      },
      "execution_count": 2,
      "outputs": []
    },
    {
      "cell_type": "code",
      "source": [
        "# Testing: buy dates and sell dates each in a list with \"DD-MM-YYYY\" format, buy prices and sell prices per unit of gas each in a list with\n",
        "# the index corresponding to the date the transaction was made. For example, buy_prices[x] is the price bought on the day buy_dates[x].\n",
        "# Volume per transaction is 10**6 units, injection rate of 10k per million units, maximum storing capacity of 2.5 million units\n",
        "# and storage cost of 100k a month.\n",
        "print(pricing_model(buy_dates=[\"30-06-2023\", \"30-12-2023\", \"30-06-2024\"], sell_dates=[\"30-09-2023\", \"30-03-2024\", \"30-09-2024\"],\n",
        "                    buy_prices=[10, 11, 12], sell_prices=[11, 11, 13], volume_per_day=10**6, injection_rate=10000/10**6,\n",
        "                    maximum_volume=2.5*10**6, storage_cost=10**5))"
      ],
      "metadata": {
        "colab": {
          "base_uri": "https://localhost:8080/"
        },
        "id": "_gTgOSu7XFUC",
        "outputId": "fb32f266-cbbf-4f68-d526-65fd05b77967"
      },
      "execution_count": 3,
      "outputs": [
        {
          "output_type": "stream",
          "name": "stdout",
          "text": [
            "340000.0\n"
          ]
        }
      ]
    }
  ]
}